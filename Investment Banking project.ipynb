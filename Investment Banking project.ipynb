{
 "cells": [
  {
   "cell_type": "code",
   "execution_count": 1,
   "metadata": {},
   "outputs": [],
   "source": [
    "#Project-1 -->Investment Banking - Data Cleaning & Analysis"
   ]
  },
  {
   "cell_type": "code",
   "execution_count": 2,
   "metadata": {},
   "outputs": [],
   "source": [
    "#To Find who is Loyal Broker"
   ]
  },
  {
   "cell_type": "code",
   "execution_count": 3,
   "metadata": {},
   "outputs": [],
   "source": [
    "#Firm Sales - Specific to Morgan STanley & Other firms - Other Banks"
   ]
  },
  {
   "cell_type": "code",
   "execution_count": 6,
   "metadata": {},
   "outputs": [
    {
     "data": {
      "text/plain": [
       "'1.1.3'"
      ]
     },
     "execution_count": 6,
     "metadata": {},
     "output_type": "execute_result"
    }
   ],
   "source": [
    "pd.__version__"
   ]
  },
  {
   "cell_type": "code",
   "execution_count": 5,
   "metadata": {},
   "outputs": [],
   "source": [
    "import pandas as pd\n",
    "import warnings\n",
    "warnings.simplefilter(action='ignore', category=FutureWarning)"
   ]
  },
  {
   "cell_type": "code",
   "execution_count": 7,
   "metadata": {},
   "outputs": [],
   "source": [
    "data = pd.read_excel('C:\\\\Users\\\\kalyankrishna\\\\Downloads\\\\2412624-2318028-investment_banking.xlsx')"
   ]
  },
  {
   "cell_type": "code",
   "execution_count": 8,
   "metadata": {},
   "outputs": [
    {
     "data": {
      "text/html": [
       "<div>\n",
       "<style scoped>\n",
       "    .dataframe tbody tr th:only-of-type {\n",
       "        vertical-align: middle;\n",
       "    }\n",
       "\n",
       "    .dataframe tbody tr th {\n",
       "        vertical-align: top;\n",
       "    }\n",
       "\n",
       "    .dataframe thead th {\n",
       "        text-align: right;\n",
       "    }\n",
       "</style>\n",
       "<table border=\"1\" class=\"dataframe\">\n",
       "  <thead>\n",
       "    <tr style=\"text-align: right;\">\n",
       "      <th></th>\n",
       "      <th>broker_id</th>\n",
       "      <th>city</th>\n",
       "      <th>broker_type</th>\n",
       "      <th>fund_category</th>\n",
       "      <th>email_opened</th>\n",
       "      <th>webex_meet</th>\n",
       "      <th>sales_call</th>\n",
       "      <th>firm_sales</th>\n",
       "      <th>global_sales</th>\n",
       "    </tr>\n",
       "  </thead>\n",
       "  <tbody>\n",
       "    <tr>\n",
       "      <th>0</th>\n",
       "      <td>BRXX-1</td>\n",
       "      <td>PLANTATION, FL</td>\n",
       "      <td>Inter-dealer broker</td>\n",
       "      <td>Emerging-Markets Local-Currency Bond</td>\n",
       "      <td>NaN</td>\n",
       "      <td>NaN</td>\n",
       "      <td>NaN</td>\n",
       "      <td>174.62</td>\n",
       "      <td>174.62</td>\n",
       "    </tr>\n",
       "    <tr>\n",
       "      <th>1</th>\n",
       "      <td>BRXX-1</td>\n",
       "      <td>BRANFORD, CT</td>\n",
       "      <td>Inter-dealer broker</td>\n",
       "      <td>Utilities</td>\n",
       "      <td>NaN</td>\n",
       "      <td>NaN</td>\n",
       "      <td>NaN</td>\n",
       "      <td>0.00</td>\n",
       "      <td>0.00</td>\n",
       "    </tr>\n",
       "    <tr>\n",
       "      <th>2</th>\n",
       "      <td>BRXX-1</td>\n",
       "      <td>JONESBORO, GA</td>\n",
       "      <td>Inter-dealer broker</td>\n",
       "      <td>Intermediate Government</td>\n",
       "      <td>NaN</td>\n",
       "      <td>NaN</td>\n",
       "      <td>NaN</td>\n",
       "      <td>0.00</td>\n",
       "      <td>0.00</td>\n",
       "    </tr>\n",
       "    <tr>\n",
       "      <th>3</th>\n",
       "      <td>BRXX-2</td>\n",
       "      <td>VIENNA, VA</td>\n",
       "      <td>Inter-dealer broker</td>\n",
       "      <td>Intermediate Government</td>\n",
       "      <td>Y</td>\n",
       "      <td>NaN</td>\n",
       "      <td>NaN</td>\n",
       "      <td>0.00</td>\n",
       "      <td>30709.00</td>\n",
       "    </tr>\n",
       "    <tr>\n",
       "      <th>4</th>\n",
       "      <td>BRXX-3</td>\n",
       "      <td>CHAGRIN FALLS, OH</td>\n",
       "      <td>full-service broker</td>\n",
       "      <td>Target-Date 2050</td>\n",
       "      <td>Y</td>\n",
       "      <td>NaN</td>\n",
       "      <td>Y</td>\n",
       "      <td>0.00</td>\n",
       "      <td>0.00</td>\n",
       "    </tr>\n",
       "  </tbody>\n",
       "</table>\n",
       "</div>"
      ],
      "text/plain": [
       "  broker_id               city          broker_type  \\\n",
       "0    BRXX-1     PLANTATION, FL  Inter-dealer broker   \n",
       "1    BRXX-1       BRANFORD, CT  Inter-dealer broker   \n",
       "2    BRXX-1      JONESBORO, GA  Inter-dealer broker   \n",
       "3    BRXX-2         VIENNA, VA  Inter-dealer broker   \n",
       "4    BRXX-3  CHAGRIN FALLS, OH  full-service broker   \n",
       "\n",
       "                          fund_category email_opened webex_meet sales_call  \\\n",
       "0  Emerging-Markets Local-Currency Bond          NaN        NaN        NaN   \n",
       "1                             Utilities          NaN        NaN        NaN   \n",
       "2               Intermediate Government          NaN        NaN        NaN   \n",
       "3               Intermediate Government            Y        NaN        NaN   \n",
       "4                      Target-Date 2050            Y        NaN          Y   \n",
       "\n",
       "   firm_sales  global_sales  \n",
       "0      174.62        174.62  \n",
       "1        0.00          0.00  \n",
       "2        0.00          0.00  \n",
       "3        0.00      30709.00  \n",
       "4        0.00          0.00  "
      ]
     },
     "execution_count": 8,
     "metadata": {},
     "output_type": "execute_result"
    }
   ],
   "source": [
    "data.head()"
   ]
  },
  {
   "cell_type": "code",
   "execution_count": 9,
   "metadata": {},
   "outputs": [
    {
     "data": {
      "text/plain": [
       "(753089, 9)"
      ]
     },
     "execution_count": 9,
     "metadata": {},
     "output_type": "execute_result"
    }
   ],
   "source": [
    "data.shape"
   ]
  },
  {
   "cell_type": "code",
   "execution_count": 10,
   "metadata": {},
   "outputs": [
    {
     "data": {
      "text/plain": [
       "broker_id         0.000000\n",
       "city              0.000000\n",
       "broker_type       0.000000\n",
       "fund_category     0.000000\n",
       "email_opened     57.701679\n",
       "webex_meet       88.625514\n",
       "sales_call       76.098708\n",
       "firm_sales        0.000000\n",
       "global_sales      0.000000\n",
       "dtype: float64"
      ]
     },
     "execution_count": 10,
     "metadata": {},
     "output_type": "execute_result"
    }
   ],
   "source": [
    "data.isna().sum()/data.shape[0]*100\n",
    "#data.shape[0]"
   ]
  },
  {
   "cell_type": "markdown",
   "metadata": {},
   "source": [
    "### Filling null values "
   ]
  },
  {
   "cell_type": "code",
   "execution_count": 11,
   "metadata": {},
   "outputs": [],
   "source": [
    "data['email_opened'] = data['email_opened'].fillna('N')\n",
    "data['webex_meet'] = data['webex_meet'].fillna('N')\n",
    "data['sales_call'] = data['sales_call'].fillna('N')"
   ]
  },
  {
   "cell_type": "code",
   "execution_count": 12,
   "metadata": {},
   "outputs": [
    {
     "data": {
      "text/html": [
       "<div>\n",
       "<style scoped>\n",
       "    .dataframe tbody tr th:only-of-type {\n",
       "        vertical-align: middle;\n",
       "    }\n",
       "\n",
       "    .dataframe tbody tr th {\n",
       "        vertical-align: top;\n",
       "    }\n",
       "\n",
       "    .dataframe thead th {\n",
       "        text-align: right;\n",
       "    }\n",
       "</style>\n",
       "<table border=\"1\" class=\"dataframe\">\n",
       "  <thead>\n",
       "    <tr style=\"text-align: right;\">\n",
       "      <th></th>\n",
       "      <th>broker_id</th>\n",
       "      <th>city</th>\n",
       "      <th>broker_type</th>\n",
       "      <th>fund_category</th>\n",
       "      <th>email_opened</th>\n",
       "      <th>webex_meet</th>\n",
       "      <th>sales_call</th>\n",
       "      <th>firm_sales</th>\n",
       "      <th>global_sales</th>\n",
       "    </tr>\n",
       "  </thead>\n",
       "  <tbody>\n",
       "    <tr>\n",
       "      <th>0</th>\n",
       "      <td>BRXX-1</td>\n",
       "      <td>PLANTATION, FL</td>\n",
       "      <td>Inter-dealer broker</td>\n",
       "      <td>Emerging-Markets Local-Currency Bond</td>\n",
       "      <td>N</td>\n",
       "      <td>N</td>\n",
       "      <td>N</td>\n",
       "      <td>174.62</td>\n",
       "      <td>174.62</td>\n",
       "    </tr>\n",
       "    <tr>\n",
       "      <th>1</th>\n",
       "      <td>BRXX-1</td>\n",
       "      <td>BRANFORD, CT</td>\n",
       "      <td>Inter-dealer broker</td>\n",
       "      <td>Utilities</td>\n",
       "      <td>N</td>\n",
       "      <td>N</td>\n",
       "      <td>N</td>\n",
       "      <td>0.00</td>\n",
       "      <td>0.00</td>\n",
       "    </tr>\n",
       "    <tr>\n",
       "      <th>2</th>\n",
       "      <td>BRXX-1</td>\n",
       "      <td>JONESBORO, GA</td>\n",
       "      <td>Inter-dealer broker</td>\n",
       "      <td>Intermediate Government</td>\n",
       "      <td>N</td>\n",
       "      <td>N</td>\n",
       "      <td>N</td>\n",
       "      <td>0.00</td>\n",
       "      <td>0.00</td>\n",
       "    </tr>\n",
       "    <tr>\n",
       "      <th>3</th>\n",
       "      <td>BRXX-2</td>\n",
       "      <td>VIENNA, VA</td>\n",
       "      <td>Inter-dealer broker</td>\n",
       "      <td>Intermediate Government</td>\n",
       "      <td>Y</td>\n",
       "      <td>N</td>\n",
       "      <td>N</td>\n",
       "      <td>0.00</td>\n",
       "      <td>30709.00</td>\n",
       "    </tr>\n",
       "    <tr>\n",
       "      <th>4</th>\n",
       "      <td>BRXX-3</td>\n",
       "      <td>CHAGRIN FALLS, OH</td>\n",
       "      <td>full-service broker</td>\n",
       "      <td>Target-Date 2050</td>\n",
       "      <td>Y</td>\n",
       "      <td>N</td>\n",
       "      <td>Y</td>\n",
       "      <td>0.00</td>\n",
       "      <td>0.00</td>\n",
       "    </tr>\n",
       "  </tbody>\n",
       "</table>\n",
       "</div>"
      ],
      "text/plain": [
       "  broker_id               city          broker_type  \\\n",
       "0    BRXX-1     PLANTATION, FL  Inter-dealer broker   \n",
       "1    BRXX-1       BRANFORD, CT  Inter-dealer broker   \n",
       "2    BRXX-1      JONESBORO, GA  Inter-dealer broker   \n",
       "3    BRXX-2         VIENNA, VA  Inter-dealer broker   \n",
       "4    BRXX-3  CHAGRIN FALLS, OH  full-service broker   \n",
       "\n",
       "                          fund_category email_opened webex_meet sales_call  \\\n",
       "0  Emerging-Markets Local-Currency Bond            N          N          N   \n",
       "1                             Utilities            N          N          N   \n",
       "2               Intermediate Government            N          N          N   \n",
       "3               Intermediate Government            Y          N          N   \n",
       "4                      Target-Date 2050            Y          N          Y   \n",
       "\n",
       "   firm_sales  global_sales  \n",
       "0      174.62        174.62  \n",
       "1        0.00          0.00  \n",
       "2        0.00          0.00  \n",
       "3        0.00      30709.00  \n",
       "4        0.00          0.00  "
      ]
     },
     "execution_count": 12,
     "metadata": {},
     "output_type": "execute_result"
    }
   ],
   "source": [
    "data.head(5)"
   ]
  },
  {
   "cell_type": "code",
   "execution_count": 13,
   "metadata": {},
   "outputs": [],
   "source": [
    "data['city'], data['state'] = data['city'].str.split(',',1).str#dividing the city column with city & state with split, with first comma "
   ]
  },
  {
   "cell_type": "code",
   "execution_count": 14,
   "metadata": {},
   "outputs": [
    {
     "data": {
      "text/html": [
       "<div>\n",
       "<style scoped>\n",
       "    .dataframe tbody tr th:only-of-type {\n",
       "        vertical-align: middle;\n",
       "    }\n",
       "\n",
       "    .dataframe tbody tr th {\n",
       "        vertical-align: top;\n",
       "    }\n",
       "\n",
       "    .dataframe thead th {\n",
       "        text-align: right;\n",
       "    }\n",
       "</style>\n",
       "<table border=\"1\" class=\"dataframe\">\n",
       "  <thead>\n",
       "    <tr style=\"text-align: right;\">\n",
       "      <th></th>\n",
       "      <th>broker_id</th>\n",
       "      <th>city</th>\n",
       "      <th>broker_type</th>\n",
       "      <th>fund_category</th>\n",
       "      <th>email_opened</th>\n",
       "      <th>webex_meet</th>\n",
       "      <th>sales_call</th>\n",
       "      <th>firm_sales</th>\n",
       "      <th>global_sales</th>\n",
       "      <th>state</th>\n",
       "    </tr>\n",
       "  </thead>\n",
       "  <tbody>\n",
       "    <tr>\n",
       "      <th>0</th>\n",
       "      <td>BRXX-1</td>\n",
       "      <td>PLANTATION</td>\n",
       "      <td>Inter-dealer broker</td>\n",
       "      <td>Emerging-Markets Local-Currency Bond</td>\n",
       "      <td>N</td>\n",
       "      <td>N</td>\n",
       "      <td>N</td>\n",
       "      <td>174.62</td>\n",
       "      <td>174.62</td>\n",
       "      <td>FL</td>\n",
       "    </tr>\n",
       "    <tr>\n",
       "      <th>1</th>\n",
       "      <td>BRXX-1</td>\n",
       "      <td>BRANFORD</td>\n",
       "      <td>Inter-dealer broker</td>\n",
       "      <td>Utilities</td>\n",
       "      <td>N</td>\n",
       "      <td>N</td>\n",
       "      <td>N</td>\n",
       "      <td>0.00</td>\n",
       "      <td>0.00</td>\n",
       "      <td>CT</td>\n",
       "    </tr>\n",
       "    <tr>\n",
       "      <th>2</th>\n",
       "      <td>BRXX-1</td>\n",
       "      <td>JONESBORO</td>\n",
       "      <td>Inter-dealer broker</td>\n",
       "      <td>Intermediate Government</td>\n",
       "      <td>N</td>\n",
       "      <td>N</td>\n",
       "      <td>N</td>\n",
       "      <td>0.00</td>\n",
       "      <td>0.00</td>\n",
       "      <td>GA</td>\n",
       "    </tr>\n",
       "    <tr>\n",
       "      <th>3</th>\n",
       "      <td>BRXX-2</td>\n",
       "      <td>VIENNA</td>\n",
       "      <td>Inter-dealer broker</td>\n",
       "      <td>Intermediate Government</td>\n",
       "      <td>Y</td>\n",
       "      <td>N</td>\n",
       "      <td>N</td>\n",
       "      <td>0.00</td>\n",
       "      <td>30709.00</td>\n",
       "      <td>VA</td>\n",
       "    </tr>\n",
       "    <tr>\n",
       "      <th>4</th>\n",
       "      <td>BRXX-3</td>\n",
       "      <td>CHAGRIN FALLS</td>\n",
       "      <td>full-service broker</td>\n",
       "      <td>Target-Date 2050</td>\n",
       "      <td>Y</td>\n",
       "      <td>N</td>\n",
       "      <td>Y</td>\n",
       "      <td>0.00</td>\n",
       "      <td>0.00</td>\n",
       "      <td>OH</td>\n",
       "    </tr>\n",
       "  </tbody>\n",
       "</table>\n",
       "</div>"
      ],
      "text/plain": [
       "  broker_id           city          broker_type  \\\n",
       "0    BRXX-1     PLANTATION  Inter-dealer broker   \n",
       "1    BRXX-1       BRANFORD  Inter-dealer broker   \n",
       "2    BRXX-1      JONESBORO  Inter-dealer broker   \n",
       "3    BRXX-2         VIENNA  Inter-dealer broker   \n",
       "4    BRXX-3  CHAGRIN FALLS  full-service broker   \n",
       "\n",
       "                          fund_category email_opened webex_meet sales_call  \\\n",
       "0  Emerging-Markets Local-Currency Bond            N          N          N   \n",
       "1                             Utilities            N          N          N   \n",
       "2               Intermediate Government            N          N          N   \n",
       "3               Intermediate Government            Y          N          N   \n",
       "4                      Target-Date 2050            Y          N          Y   \n",
       "\n",
       "   firm_sales  global_sales state  \n",
       "0      174.62        174.62    FL  \n",
       "1        0.00          0.00    CT  \n",
       "2        0.00          0.00    GA  \n",
       "3        0.00      30709.00    VA  \n",
       "4        0.00          0.00    OH  "
      ]
     },
     "execution_count": 14,
     "metadata": {},
     "output_type": "execute_result"
    }
   ],
   "source": [
    "data.head()"
   ]
  },
  {
   "cell_type": "markdown",
   "metadata": {},
   "source": [
    "### Check for Abnormalities"
   ]
  },
  {
   "cell_type": "code",
   "execution_count": 22,
   "metadata": {},
   "outputs": [
    {
     "data": {
      "text/plain": [
       "array([], dtype=object)"
      ]
     },
     "execution_count": 22,
     "metadata": {},
     "output_type": "execute_result"
    }
   ],
   "source": [
    "data[data['state'].str.len()>2]['state'].unique()"
   ]
  },
  {
   "cell_type": "code",
   "execution_count": 16,
   "metadata": {},
   "outputs": [],
   "source": [
    "data['state'] = data['state'].str.replace(',','')              #Replacing \",\" where space,,ie., we are removing extra commas"
   ]
  },
  {
   "cell_type": "code",
   "execution_count": 18,
   "metadata": {},
   "outputs": [],
   "source": [
    "data['state'] = data['state'].str.replace(' ','')               #Remove extra space\n",
    "data['state'] = data['state'].str.replace('TNTN','TN')          #Replace \"TN\" wherever we have \"TNTN\"\n",
    "data['state'] = data['state'].str.replace('DCDC','DC')          #Replace \"DC\" wherever we have \"DCDC\""
   ]
  },
  {
   "cell_type": "code",
   "execution_count": 19,
   "metadata": {},
   "outputs": [
    {
     "data": {
      "text/html": [
       "<div>\n",
       "<style scoped>\n",
       "    .dataframe tbody tr th:only-of-type {\n",
       "        vertical-align: middle;\n",
       "    }\n",
       "\n",
       "    .dataframe tbody tr th {\n",
       "        vertical-align: top;\n",
       "    }\n",
       "\n",
       "    .dataframe thead th {\n",
       "        text-align: right;\n",
       "    }\n",
       "</style>\n",
       "<table border=\"1\" class=\"dataframe\">\n",
       "  <thead>\n",
       "    <tr style=\"text-align: right;\">\n",
       "      <th></th>\n",
       "      <th>broker_id</th>\n",
       "      <th>city</th>\n",
       "      <th>broker_type</th>\n",
       "      <th>fund_category</th>\n",
       "      <th>email_opened</th>\n",
       "      <th>webex_meet</th>\n",
       "      <th>sales_call</th>\n",
       "      <th>firm_sales</th>\n",
       "      <th>global_sales</th>\n",
       "      <th>state</th>\n",
       "    </tr>\n",
       "  </thead>\n",
       "  <tbody>\n",
       "  </tbody>\n",
       "</table>\n",
       "</div>"
      ],
      "text/plain": [
       "Empty DataFrame\n",
       "Columns: [broker_id, city, broker_type, fund_category, email_opened, webex_meet, sales_call, firm_sales, global_sales, state]\n",
       "Index: []"
      ]
     },
     "execution_count": 19,
     "metadata": {},
     "output_type": "execute_result"
    }
   ],
   "source": [
    "data[data['state'].str.len()>2].head()                           #Length morethan 2 is No result"
   ]
  },
  {
   "cell_type": "code",
   "execution_count": 20,
   "metadata": {},
   "outputs": [
    {
     "data": {
      "text/html": [
       "<div>\n",
       "<style scoped>\n",
       "    .dataframe tbody tr th:only-of-type {\n",
       "        vertical-align: middle;\n",
       "    }\n",
       "\n",
       "    .dataframe tbody tr th {\n",
       "        vertical-align: top;\n",
       "    }\n",
       "\n",
       "    .dataframe thead th {\n",
       "        text-align: right;\n",
       "    }\n",
       "</style>\n",
       "<table border=\"1\" class=\"dataframe\">\n",
       "  <thead>\n",
       "    <tr style=\"text-align: right;\">\n",
       "      <th></th>\n",
       "      <th>broker_id</th>\n",
       "      <th>city</th>\n",
       "      <th>broker_type</th>\n",
       "      <th>fund_category</th>\n",
       "      <th>email_opened</th>\n",
       "      <th>webex_meet</th>\n",
       "      <th>sales_call</th>\n",
       "      <th>firm_sales</th>\n",
       "      <th>global_sales</th>\n",
       "      <th>state</th>\n",
       "    </tr>\n",
       "  </thead>\n",
       "  <tbody>\n",
       "  </tbody>\n",
       "</table>\n",
       "</div>"
      ],
      "text/plain": [
       "Empty DataFrame\n",
       "Columns: [broker_id, city, broker_type, fund_category, email_opened, webex_meet, sales_call, firm_sales, global_sales, state]\n",
       "Index: []"
      ]
     },
     "execution_count": 20,
     "metadata": {},
     "output_type": "execute_result"
    }
   ],
   "source": [
    "data[data['state'].str.len()<2].head()                           #Length lessthan 2 is No result"
   ]
  },
  {
   "cell_type": "code",
   "execution_count": 21,
   "metadata": {},
   "outputs": [
    {
     "data": {
      "text/html": [
       "<div>\n",
       "<style scoped>\n",
       "    .dataframe tbody tr th:only-of-type {\n",
       "        vertical-align: middle;\n",
       "    }\n",
       "\n",
       "    .dataframe tbody tr th {\n",
       "        vertical-align: top;\n",
       "    }\n",
       "\n",
       "    .dataframe thead th {\n",
       "        text-align: right;\n",
       "    }\n",
       "</style>\n",
       "<table border=\"1\" class=\"dataframe\">\n",
       "  <thead>\n",
       "    <tr style=\"text-align: right;\">\n",
       "      <th></th>\n",
       "      <th>broker_id</th>\n",
       "      <th>city</th>\n",
       "      <th>broker_type</th>\n",
       "      <th>fund_category</th>\n",
       "      <th>email_opened</th>\n",
       "      <th>webex_meet</th>\n",
       "      <th>sales_call</th>\n",
       "      <th>firm_sales</th>\n",
       "      <th>global_sales</th>\n",
       "      <th>state</th>\n",
       "    </tr>\n",
       "  </thead>\n",
       "  <tbody>\n",
       "    <tr>\n",
       "      <th>0</th>\n",
       "      <td>BRXX-1</td>\n",
       "      <td>PLANTATION</td>\n",
       "      <td>Inter-dealer broker</td>\n",
       "      <td>Emerging-Markets Local-Currency Bond</td>\n",
       "      <td>N</td>\n",
       "      <td>N</td>\n",
       "      <td>N</td>\n",
       "      <td>174.62</td>\n",
       "      <td>174.62</td>\n",
       "      <td>FL</td>\n",
       "    </tr>\n",
       "    <tr>\n",
       "      <th>1</th>\n",
       "      <td>BRXX-1</td>\n",
       "      <td>BRANFORD</td>\n",
       "      <td>Inter-dealer broker</td>\n",
       "      <td>Utilities</td>\n",
       "      <td>N</td>\n",
       "      <td>N</td>\n",
       "      <td>N</td>\n",
       "      <td>0.00</td>\n",
       "      <td>0.00</td>\n",
       "      <td>CT</td>\n",
       "    </tr>\n",
       "    <tr>\n",
       "      <th>2</th>\n",
       "      <td>BRXX-1</td>\n",
       "      <td>JONESBORO</td>\n",
       "      <td>Inter-dealer broker</td>\n",
       "      <td>Intermediate Government</td>\n",
       "      <td>N</td>\n",
       "      <td>N</td>\n",
       "      <td>N</td>\n",
       "      <td>0.00</td>\n",
       "      <td>0.00</td>\n",
       "      <td>GA</td>\n",
       "    </tr>\n",
       "    <tr>\n",
       "      <th>3</th>\n",
       "      <td>BRXX-2</td>\n",
       "      <td>VIENNA</td>\n",
       "      <td>Inter-dealer broker</td>\n",
       "      <td>Intermediate Government</td>\n",
       "      <td>Y</td>\n",
       "      <td>N</td>\n",
       "      <td>N</td>\n",
       "      <td>0.00</td>\n",
       "      <td>30709.00</td>\n",
       "      <td>VA</td>\n",
       "    </tr>\n",
       "    <tr>\n",
       "      <th>4</th>\n",
       "      <td>BRXX-3</td>\n",
       "      <td>CHAGRIN FALLS</td>\n",
       "      <td>full-service broker</td>\n",
       "      <td>Target-Date 2050</td>\n",
       "      <td>Y</td>\n",
       "      <td>N</td>\n",
       "      <td>Y</td>\n",
       "      <td>0.00</td>\n",
       "      <td>0.00</td>\n",
       "      <td>OH</td>\n",
       "    </tr>\n",
       "  </tbody>\n",
       "</table>\n",
       "</div>"
      ],
      "text/plain": [
       "  broker_id           city          broker_type  \\\n",
       "0    BRXX-1     PLANTATION  Inter-dealer broker   \n",
       "1    BRXX-1       BRANFORD  Inter-dealer broker   \n",
       "2    BRXX-1      JONESBORO  Inter-dealer broker   \n",
       "3    BRXX-2         VIENNA  Inter-dealer broker   \n",
       "4    BRXX-3  CHAGRIN FALLS  full-service broker   \n",
       "\n",
       "                          fund_category email_opened webex_meet sales_call  \\\n",
       "0  Emerging-Markets Local-Currency Bond            N          N          N   \n",
       "1                             Utilities            N          N          N   \n",
       "2               Intermediate Government            N          N          N   \n",
       "3               Intermediate Government            Y          N          N   \n",
       "4                      Target-Date 2050            Y          N          Y   \n",
       "\n",
       "   firm_sales  global_sales state  \n",
       "0      174.62        174.62    FL  \n",
       "1        0.00          0.00    CT  \n",
       "2        0.00          0.00    GA  \n",
       "3        0.00      30709.00    VA  \n",
       "4        0.00          0.00    OH  "
      ]
     },
     "execution_count": 21,
     "metadata": {},
     "output_type": "execute_result"
    }
   ],
   "source": [
    "data[data['state'].str.len()==2].head()                          #Only we have len==2 results"
   ]
  },
  {
   "cell_type": "code",
   "execution_count": 23,
   "metadata": {},
   "outputs": [
    {
     "data": {
      "text/plain": [
       "array(['N', 'Y'], dtype=object)"
      ]
     },
     "execution_count": 23,
     "metadata": {},
     "output_type": "execute_result"
    }
   ],
   "source": [
    "#data[\"email_opened\"].unique()\n",
    "#data[\"webex_meet\"].unique()\n",
    "data[\"sales_call\"].unique()"
   ]
  },
  {
   "cell_type": "code",
   "execution_count": 24,
   "metadata": {},
   "outputs": [
    {
     "data": {
      "text/plain": [
       "0"
      ]
     },
     "execution_count": 24,
     "metadata": {},
     "output_type": "execute_result"
    }
   ],
   "source": [
    "data['state'].str.isnumeric().sum()"
   ]
  },
  {
   "cell_type": "code",
   "execution_count": 25,
   "metadata": {},
   "outputs": [
    {
     "data": {
      "text/plain": [
       "37"
      ]
     },
     "execution_count": 25,
     "metadata": {},
     "output_type": "execute_result"
    }
   ],
   "source": [
    "data['city'].str.isnumeric().sum()##This Sum should be 0,but why this is 37 .....??"
   ]
  },
  {
   "cell_type": "code",
   "execution_count": 26,
   "metadata": {},
   "outputs": [
    {
     "data": {
      "text/plain": [
       "array(['64150', '15801', '95678'], dtype=object)"
      ]
     },
     "execution_count": 26,
     "metadata": {},
     "output_type": "execute_result"
    }
   ],
   "source": [
    "data[data['city'].str.isnumeric()]['city'].unique()"
   ]
  },
  {
   "cell_type": "code",
   "execution_count": 27,
   "metadata": {},
   "outputs": [],
   "source": [
    "#US Pincodes\n",
    "#64150------->Riverside\n",
    "#15801------->Du Bois\n",
    "#95678------->Roseville\n",
    "#replacing the above codes with the US city names by checking from google"
   ]
  },
  {
   "cell_type": "code",
   "execution_count": 28,
   "metadata": {},
   "outputs": [],
   "source": [
    "data['city'] = data['city'].str.replace('64150','Riverside')\n",
    "data['city'] = data['city'].str.replace('15801','Du Bois')\n",
    "data['city'] = data['city'].str.replace('95678','Roseville')"
   ]
  },
  {
   "cell_type": "code",
   "execution_count": 29,
   "metadata": {},
   "outputs": [
    {
     "data": {
      "text/plain": [
       "array([], dtype=object)"
      ]
     },
     "execution_count": 29,
     "metadata": {},
     "output_type": "execute_result"
    }
   ],
   "source": [
    "data[data['city'].str.isnumeric()]['city'].unique()#rechecking after replacing codes with city names, "
   ]
  },
  {
   "cell_type": "code",
   "execution_count": 30,
   "metadata": {},
   "outputs": [
    {
     "data": {
      "text/plain": [
       "0"
      ]
     },
     "execution_count": 30,
     "metadata": {},
     "output_type": "execute_result"
    }
   ],
   "source": [
    "data['city'].str.isnumeric().sum()#rechecking after replacing codes with city names,above step we got 37 and now result is Zero"
   ]
  },
  {
   "cell_type": "code",
   "execution_count": 31,
   "metadata": {},
   "outputs": [
    {
     "data": {
      "text/html": [
       "<div>\n",
       "<style scoped>\n",
       "    .dataframe tbody tr th:only-of-type {\n",
       "        vertical-align: middle;\n",
       "    }\n",
       "\n",
       "    .dataframe tbody tr th {\n",
       "        vertical-align: top;\n",
       "    }\n",
       "\n",
       "    .dataframe thead th {\n",
       "        text-align: right;\n",
       "    }\n",
       "</style>\n",
       "<table border=\"1\" class=\"dataframe\">\n",
       "  <thead>\n",
       "    <tr style=\"text-align: right;\">\n",
       "      <th></th>\n",
       "      <th>broker_id</th>\n",
       "      <th>city</th>\n",
       "      <th>broker_type</th>\n",
       "      <th>fund_category</th>\n",
       "      <th>email_opened</th>\n",
       "      <th>webex_meet</th>\n",
       "      <th>sales_call</th>\n",
       "      <th>firm_sales</th>\n",
       "      <th>global_sales</th>\n",
       "      <th>state</th>\n",
       "    </tr>\n",
       "  </thead>\n",
       "  <tbody>\n",
       "  </tbody>\n",
       "</table>\n",
       "</div>"
      ],
      "text/plain": [
       "Empty DataFrame\n",
       "Columns: [broker_id, city, broker_type, fund_category, email_opened, webex_meet, sales_call, firm_sales, global_sales, state]\n",
       "Index: []"
      ]
     },
     "execution_count": 31,
     "metadata": {},
     "output_type": "execute_result"
    }
   ],
   "source": [
    "data[data['city'].str.len()==2].head()#rechecking after replacing codes with city names"
   ]
  },
  {
   "cell_type": "code",
   "execution_count": 32,
   "metadata": {},
   "outputs": [],
   "source": [
    "#data['broker_id'].str.isnumeric().sum()\n",
    "#data['broker_type'].str.isnumeric().sum()\n",
    "#data['fund_category'].str.isnumeric().sum()"
   ]
  },
  {
   "cell_type": "code",
   "execution_count": 33,
   "metadata": {},
   "outputs": [
    {
     "data": {
      "text/plain": [
       "array(['Inter-dealer broker', 'full-service broker'], dtype=object)"
      ]
     },
     "execution_count": 33,
     "metadata": {},
     "output_type": "execute_result"
    }
   ],
   "source": [
    "data['broker_type'].unique()"
   ]
  },
  {
   "cell_type": "code",
   "execution_count": 34,
   "metadata": {},
   "outputs": [
    {
     "data": {
      "text/plain": [
       "array(['Emerging-Markets Local-Currency Bond', 'Utilities',\n",
       "       'Intermediate Government', 'Target-Date 2050', 'Multicurrency',\n",
       "       'Target-Date Retirement', 'World Large Stock',\n",
       "       'Intermediate-Term Bond', 'Convertibles',\n",
       "       'Foreign Small/Mid Growth', 'Target-Date 2045', 'Target-Date 2055',\n",
       "       'Muni California Long', 'High Yield Bond',\n",
       "       'Allocation--70% to 85% Equity', 'Small Blend', 'Target-Date 2040',\n",
       "       'Technology', 'Mid-Cap Value', 'World Allocation', 'Mid-Cap Blend',\n",
       "       'Multisector Bond', 'Foreign Large Growth', 'Target-Date 2025',\n",
       "       'Options-based', 'Muni New York Long',\n",
       "       'Allocation--50% to 70% Equity', 'High Yield Muni',\n",
       "       'Nontraditional Bond', 'Large Growth', 'Foreign Large Blend',\n",
       "       'Market Neutral', 'World Small/Mid Stock', 'Real Estate',\n",
       "       'Allocation--15% to 30% Equity', 'Muni Pennsylvania',\n",
       "       'Allocation--30% to 50% Equity', 'Preferred Stock', 'Europe Stock',\n",
       "       'Corporate Bond', 'Foreign Large Value', 'World Bond',\n",
       "       'Equity Energy', 'Muni National Short', 'Large Value',\n",
       "       'Target-Date 2035', 'Target-Date 2015', 'Tactical Allocation',\n",
       "       'Large Blend', 'Health', 'Target-Date 2060+', 'Ultrashort Bond',\n",
       "       'Diversified Emerging Mkts', 'Short Government',\n",
       "       'Target-Date 2020', 'Muni National Interm', 'Miscellaneous Region',\n",
       "       'Inflation-Protected Bond', 'Consumer Defensive', 'Bank Loan',\n",
       "       'Equity Precious Metals', 'Natural Resources', 'Mid-Cap Growth',\n",
       "       'Muni National Long', 'Small Value', 'Allocation--85%+ Equity',\n",
       "       'Commodities Broad Basket', 'Diversified Pacific/Asia',\n",
       "       'Short-Term Bond', 'Small Growth', 'Financial', 'Multialternative',\n",
       "       'Long-Short Credit', 'Target-Date 2030', 'Global Real Estate',\n",
       "       'Foreign Small/Mid Value', 'Infrastructure', 'Long-Term Bond',\n",
       "       'Long-Short Equity', 'Muni Single State Interm',\n",
       "       'Emerging Markets Bond', 'China Region',\n",
       "       'Pacific/Asia ex-Japan Stk', 'Muni Single State Short',\n",
       "       'Managed Futures', 'Muni Single State Long', 'Industrials',\n",
       "       'Muni Ohio', 'Target-Date 2000-2010',\n",
       "       'Muni California Intermediate', 'Muni New York Intermediate',\n",
       "       'Energy Limited Partnership', 'Communications', 'India Equity',\n",
       "       'Consumer Cyclical', 'Muni New Jersey', 'Latin America Stock',\n",
       "       'Foreign Small/Mid Blend', 'Bear Market', 'Muni Massachusetts',\n",
       "       'Muni Minnesota', 'Long Government', 'Japan Stock'], dtype=object)"
      ]
     },
     "execution_count": 34,
     "metadata": {},
     "output_type": "execute_result"
    }
   ],
   "source": [
    "data['fund_category'].unique()"
   ]
  },
  {
   "cell_type": "code",
   "execution_count": 35,
   "metadata": {},
   "outputs": [
    {
     "data": {
      "text/html": [
       "<div>\n",
       "<style scoped>\n",
       "    .dataframe tbody tr th:only-of-type {\n",
       "        vertical-align: middle;\n",
       "    }\n",
       "\n",
       "    .dataframe tbody tr th {\n",
       "        vertical-align: top;\n",
       "    }\n",
       "\n",
       "    .dataframe thead th {\n",
       "        text-align: right;\n",
       "    }\n",
       "</style>\n",
       "<table border=\"1\" class=\"dataframe\">\n",
       "  <thead>\n",
       "    <tr style=\"text-align: right;\">\n",
       "      <th></th>\n",
       "      <th>broker_id</th>\n",
       "      <th>city</th>\n",
       "      <th>broker_type</th>\n",
       "      <th>fund_category</th>\n",
       "      <th>email_opened</th>\n",
       "      <th>webex_meet</th>\n",
       "      <th>sales_call</th>\n",
       "      <th>firm_sales</th>\n",
       "      <th>global_sales</th>\n",
       "      <th>state</th>\n",
       "    </tr>\n",
       "  </thead>\n",
       "  <tbody>\n",
       "    <tr>\n",
       "      <th>0</th>\n",
       "      <td>BRXX-1</td>\n",
       "      <td>PLANTATION</td>\n",
       "      <td>Inter-dealer broker</td>\n",
       "      <td>Emerging-Markets Local-Currency Bond</td>\n",
       "      <td>N</td>\n",
       "      <td>N</td>\n",
       "      <td>N</td>\n",
       "      <td>174.62</td>\n",
       "      <td>174.62</td>\n",
       "      <td>FL</td>\n",
       "    </tr>\n",
       "    <tr>\n",
       "      <th>1</th>\n",
       "      <td>BRXX-1</td>\n",
       "      <td>BRANFORD</td>\n",
       "      <td>Inter-dealer broker</td>\n",
       "      <td>Utilities</td>\n",
       "      <td>N</td>\n",
       "      <td>N</td>\n",
       "      <td>N</td>\n",
       "      <td>0.00</td>\n",
       "      <td>0.00</td>\n",
       "      <td>CT</td>\n",
       "    </tr>\n",
       "    <tr>\n",
       "      <th>2</th>\n",
       "      <td>BRXX-1</td>\n",
       "      <td>JONESBORO</td>\n",
       "      <td>Inter-dealer broker</td>\n",
       "      <td>Intermediate Government</td>\n",
       "      <td>N</td>\n",
       "      <td>N</td>\n",
       "      <td>N</td>\n",
       "      <td>0.00</td>\n",
       "      <td>0.00</td>\n",
       "      <td>GA</td>\n",
       "    </tr>\n",
       "    <tr>\n",
       "      <th>3</th>\n",
       "      <td>BRXX-2</td>\n",
       "      <td>VIENNA</td>\n",
       "      <td>Inter-dealer broker</td>\n",
       "      <td>Intermediate Government</td>\n",
       "      <td>Y</td>\n",
       "      <td>N</td>\n",
       "      <td>N</td>\n",
       "      <td>0.00</td>\n",
       "      <td>30709.00</td>\n",
       "      <td>VA</td>\n",
       "    </tr>\n",
       "    <tr>\n",
       "      <th>4</th>\n",
       "      <td>BRXX-3</td>\n",
       "      <td>CHAGRIN FALLS</td>\n",
       "      <td>full-service broker</td>\n",
       "      <td>Target-Date 2050</td>\n",
       "      <td>Y</td>\n",
       "      <td>N</td>\n",
       "      <td>Y</td>\n",
       "      <td>0.00</td>\n",
       "      <td>0.00</td>\n",
       "      <td>OH</td>\n",
       "    </tr>\n",
       "  </tbody>\n",
       "</table>\n",
       "</div>"
      ],
      "text/plain": [
       "  broker_id           city          broker_type  \\\n",
       "0    BRXX-1     PLANTATION  Inter-dealer broker   \n",
       "1    BRXX-1       BRANFORD  Inter-dealer broker   \n",
       "2    BRXX-1      JONESBORO  Inter-dealer broker   \n",
       "3    BRXX-2         VIENNA  Inter-dealer broker   \n",
       "4    BRXX-3  CHAGRIN FALLS  full-service broker   \n",
       "\n",
       "                          fund_category email_opened webex_meet sales_call  \\\n",
       "0  Emerging-Markets Local-Currency Bond            N          N          N   \n",
       "1                             Utilities            N          N          N   \n",
       "2               Intermediate Government            N          N          N   \n",
       "3               Intermediate Government            Y          N          N   \n",
       "4                      Target-Date 2050            Y          N          Y   \n",
       "\n",
       "   firm_sales  global_sales state  \n",
       "0      174.62        174.62    FL  \n",
       "1        0.00          0.00    CT  \n",
       "2        0.00          0.00    GA  \n",
       "3        0.00      30709.00    VA  \n",
       "4        0.00          0.00    OH  "
      ]
     },
     "execution_count": 35,
     "metadata": {},
     "output_type": "execute_result"
    }
   ],
   "source": [
    "data.head()"
   ]
  },
  {
   "cell_type": "code",
   "execution_count": 36,
   "metadata": {},
   "outputs": [
    {
     "data": {
      "text/plain": [
       "<bound method _noarg_wrapper.<locals>.wrapper of <pandas.core.strings.StringMethods object at 0x0000024F89F06190>>"
      ]
     },
     "execution_count": 36,
     "metadata": {},
     "output_type": "execute_result"
    }
   ],
   "source": [
    "data['webex_meet'].str.isnumeric"
   ]
  },
  {
   "cell_type": "code",
   "execution_count": 37,
   "metadata": {},
   "outputs": [
    {
     "data": {
      "text/html": [
       "<div>\n",
       "<style scoped>\n",
       "    .dataframe tbody tr th:only-of-type {\n",
       "        vertical-align: middle;\n",
       "    }\n",
       "\n",
       "    .dataframe tbody tr th {\n",
       "        vertical-align: top;\n",
       "    }\n",
       "\n",
       "    .dataframe thead th {\n",
       "        text-align: right;\n",
       "    }\n",
       "</style>\n",
       "<table border=\"1\" class=\"dataframe\">\n",
       "  <thead>\n",
       "    <tr style=\"text-align: right;\">\n",
       "      <th></th>\n",
       "      <th>broker_id</th>\n",
       "      <th>city</th>\n",
       "      <th>broker_type</th>\n",
       "      <th>fund_category</th>\n",
       "      <th>email_opened</th>\n",
       "      <th>webex_meet</th>\n",
       "      <th>sales_call</th>\n",
       "      <th>firm_sales</th>\n",
       "      <th>global_sales</th>\n",
       "      <th>state</th>\n",
       "    </tr>\n",
       "  </thead>\n",
       "  <tbody>\n",
       "  </tbody>\n",
       "</table>\n",
       "</div>"
      ],
      "text/plain": [
       "Empty DataFrame\n",
       "Columns: [broker_id, city, broker_type, fund_category, email_opened, webex_meet, sales_call, firm_sales, global_sales, state]\n",
       "Index: []"
      ]
     },
     "execution_count": 37,
     "metadata": {},
     "output_type": "execute_result"
    }
   ],
   "source": [
    "data[data['webex_meet'].str.len()>1].head()"
   ]
  },
  {
   "cell_type": "code",
   "execution_count": 38,
   "metadata": {},
   "outputs": [
    {
     "data": {
      "text/html": [
       "<div>\n",
       "<style scoped>\n",
       "    .dataframe tbody tr th:only-of-type {\n",
       "        vertical-align: middle;\n",
       "    }\n",
       "\n",
       "    .dataframe tbody tr th {\n",
       "        vertical-align: top;\n",
       "    }\n",
       "\n",
       "    .dataframe thead th {\n",
       "        text-align: right;\n",
       "    }\n",
       "</style>\n",
       "<table border=\"1\" class=\"dataframe\">\n",
       "  <thead>\n",
       "    <tr style=\"text-align: right;\">\n",
       "      <th></th>\n",
       "      <th>broker_id</th>\n",
       "      <th>city</th>\n",
       "      <th>broker_type</th>\n",
       "      <th>fund_category</th>\n",
       "      <th>email_opened</th>\n",
       "      <th>webex_meet</th>\n",
       "      <th>sales_call</th>\n",
       "      <th>firm_sales</th>\n",
       "      <th>global_sales</th>\n",
       "      <th>state</th>\n",
       "    </tr>\n",
       "  </thead>\n",
       "  <tbody>\n",
       "  </tbody>\n",
       "</table>\n",
       "</div>"
      ],
      "text/plain": [
       "Empty DataFrame\n",
       "Columns: [broker_id, city, broker_type, fund_category, email_opened, webex_meet, sales_call, firm_sales, global_sales, state]\n",
       "Index: []"
      ]
     },
     "execution_count": 38,
     "metadata": {},
     "output_type": "execute_result"
    }
   ],
   "source": [
    "data[data['email_opened'].str.len()>1].head()"
   ]
  },
  {
   "cell_type": "code",
   "execution_count": 39,
   "metadata": {},
   "outputs": [
    {
     "data": {
      "text/html": [
       "<div>\n",
       "<style scoped>\n",
       "    .dataframe tbody tr th:only-of-type {\n",
       "        vertical-align: middle;\n",
       "    }\n",
       "\n",
       "    .dataframe tbody tr th {\n",
       "        vertical-align: top;\n",
       "    }\n",
       "\n",
       "    .dataframe thead th {\n",
       "        text-align: right;\n",
       "    }\n",
       "</style>\n",
       "<table border=\"1\" class=\"dataframe\">\n",
       "  <thead>\n",
       "    <tr style=\"text-align: right;\">\n",
       "      <th></th>\n",
       "      <th>broker_id</th>\n",
       "      <th>city</th>\n",
       "      <th>broker_type</th>\n",
       "      <th>fund_category</th>\n",
       "      <th>email_opened</th>\n",
       "      <th>webex_meet</th>\n",
       "      <th>sales_call</th>\n",
       "      <th>firm_sales</th>\n",
       "      <th>global_sales</th>\n",
       "      <th>state</th>\n",
       "    </tr>\n",
       "  </thead>\n",
       "  <tbody>\n",
       "  </tbody>\n",
       "</table>\n",
       "</div>"
      ],
      "text/plain": [
       "Empty DataFrame\n",
       "Columns: [broker_id, city, broker_type, fund_category, email_opened, webex_meet, sales_call, firm_sales, global_sales, state]\n",
       "Index: []"
      ]
     },
     "execution_count": 39,
     "metadata": {},
     "output_type": "execute_result"
    }
   ],
   "source": [
    "data[data['sales_call'].str.len()>1].head()"
   ]
  },
  {
   "cell_type": "code",
   "execution_count": 42,
   "metadata": {},
   "outputs": [
    {
     "data": {
      "text/html": [
       "<div>\n",
       "<style scoped>\n",
       "    .dataframe tbody tr th:only-of-type {\n",
       "        vertical-align: middle;\n",
       "    }\n",
       "\n",
       "    .dataframe tbody tr th {\n",
       "        vertical-align: top;\n",
       "    }\n",
       "\n",
       "    .dataframe thead th {\n",
       "        text-align: right;\n",
       "    }\n",
       "</style>\n",
       "<table border=\"1\" class=\"dataframe\">\n",
       "  <thead>\n",
       "    <tr style=\"text-align: right;\">\n",
       "      <th></th>\n",
       "      <th>firm_sales</th>\n",
       "    </tr>\n",
       "    <tr>\n",
       "      <th>broker_id</th>\n",
       "      <th></th>\n",
       "    </tr>\n",
       "  </thead>\n",
       "  <tbody>\n",
       "    <tr>\n",
       "      <th>BRXX-298</th>\n",
       "      <td>5.748833e+08</td>\n",
       "    </tr>\n",
       "    <tr>\n",
       "      <th>BRXX-53</th>\n",
       "      <td>2.165282e+08</td>\n",
       "    </tr>\n",
       "    <tr>\n",
       "      <th>BRXX-154</th>\n",
       "      <td>2.155913e+08</td>\n",
       "    </tr>\n",
       "    <tr>\n",
       "      <th>BRXX-262</th>\n",
       "      <td>1.998988e+08</td>\n",
       "    </tr>\n",
       "    <tr>\n",
       "      <th>BRXX-3</th>\n",
       "      <td>1.454181e+08</td>\n",
       "    </tr>\n",
       "    <tr>\n",
       "      <th>...</th>\n",
       "      <td>...</td>\n",
       "    </tr>\n",
       "    <tr>\n",
       "      <th>BRXX-488</th>\n",
       "      <td>0.000000e+00</td>\n",
       "    </tr>\n",
       "    <tr>\n",
       "      <th>BRXX-489</th>\n",
       "      <td>0.000000e+00</td>\n",
       "    </tr>\n",
       "    <tr>\n",
       "      <th>BRXX-49</th>\n",
       "      <td>0.000000e+00</td>\n",
       "    </tr>\n",
       "    <tr>\n",
       "      <th>BRXX-490</th>\n",
       "      <td>0.000000e+00</td>\n",
       "    </tr>\n",
       "    <tr>\n",
       "      <th>BRXX-999</th>\n",
       "      <td>0.000000e+00</td>\n",
       "    </tr>\n",
       "  </tbody>\n",
       "</table>\n",
       "<p>1178 rows × 1 columns</p>\n",
       "</div>"
      ],
      "text/plain": [
       "             firm_sales\n",
       "broker_id              \n",
       "BRXX-298   5.748833e+08\n",
       "BRXX-53    2.165282e+08\n",
       "BRXX-154   2.155913e+08\n",
       "BRXX-262   1.998988e+08\n",
       "BRXX-3     1.454181e+08\n",
       "...                 ...\n",
       "BRXX-488   0.000000e+00\n",
       "BRXX-489   0.000000e+00\n",
       "BRXX-49    0.000000e+00\n",
       "BRXX-490   0.000000e+00\n",
       "BRXX-999   0.000000e+00\n",
       "\n",
       "[1178 rows x 1 columns]"
      ]
     },
     "execution_count": 42,
     "metadata": {},
     "output_type": "execute_result"
    }
   ],
   "source": [
    "data.groupby('broker_id')[['firm_sales']].sum().sort_values('firm_sales',ascending = False)"
   ]
  },
  {
   "cell_type": "code",
   "execution_count": 46,
   "metadata": {},
   "outputs": [
    {
     "data": {
      "text/plain": [
       "1178"
      ]
     },
     "execution_count": 46,
     "metadata": {},
     "output_type": "execute_result"
    }
   ],
   "source": [
    "data[\"broker_id\"].nunique()        #So there were a total of 1178 brokers"
   ]
  },
  {
   "cell_type": "code",
   "execution_count": 60,
   "metadata": {},
   "outputs": [
    {
     "name": "stdout",
     "output_type": "stream",
     "text": [
      "We will be Segregating like this\n"
     ]
    }
   ],
   "source": [
    "#Final Case Study\n",
    "\"\"\"\n",
    "Loyality Percentage  ------>  100%               ------->Loyal\n",
    "Loyality Percentage  ------>  <90%               ------->Potential to be Loyal\n",
    "Loyality Percentage  ------>  NaN%               ------->no growth\n",
    "Loyality Percentage  ------>  0                  ------->not Loyal\n",
    "Loyality Percentage  ------>  50 to 90%          ------->moderate loyal\n",
    "Loyality Percentage  ------>  1 to 49%           ------->Less Loyal\n",
    "\"\"\"\n",
    "\n",
    "print(\"We will be Segregating like this\")"
   ]
  },
  {
   "cell_type": "code",
   "execution_count": 63,
   "metadata": {},
   "outputs": [],
   "source": [
    "data1 = data.groupby('broker_id')[['firm_sales','global_sales']].sum().sort_values('firm_sales',ascending = False)"
   ]
  },
  {
   "cell_type": "code",
   "execution_count": 65,
   "metadata": {},
   "outputs": [
    {
     "data": {
      "text/plain": [
       "Index(['firm_sales', 'global_sales'], dtype='object')"
      ]
     },
     "execution_count": 65,
     "metadata": {},
     "output_type": "execute_result"
    }
   ],
   "source": [
    "data1.columns"
   ]
  },
  {
   "cell_type": "code",
   "execution_count": 64,
   "metadata": {},
   "outputs": [
    {
     "data": {
      "text/html": [
       "<div>\n",
       "<style scoped>\n",
       "    .dataframe tbody tr th:only-of-type {\n",
       "        vertical-align: middle;\n",
       "    }\n",
       "\n",
       "    .dataframe tbody tr th {\n",
       "        vertical-align: top;\n",
       "    }\n",
       "\n",
       "    .dataframe thead th {\n",
       "        text-align: right;\n",
       "    }\n",
       "</style>\n",
       "<table border=\"1\" class=\"dataframe\">\n",
       "  <thead>\n",
       "    <tr style=\"text-align: right;\">\n",
       "      <th></th>\n",
       "      <th>firm_sales</th>\n",
       "      <th>global_sales</th>\n",
       "    </tr>\n",
       "    <tr>\n",
       "      <th>broker_id</th>\n",
       "      <th></th>\n",
       "      <th></th>\n",
       "    </tr>\n",
       "  </thead>\n",
       "  <tbody>\n",
       "    <tr>\n",
       "      <th>BRXX-298</th>\n",
       "      <td>5.748833e+08</td>\n",
       "      <td>8.225108e+09</td>\n",
       "    </tr>\n",
       "    <tr>\n",
       "      <th>BRXX-53</th>\n",
       "      <td>2.165282e+08</td>\n",
       "      <td>8.368342e+09</td>\n",
       "    </tr>\n",
       "    <tr>\n",
       "      <th>BRXX-154</th>\n",
       "      <td>2.155913e+08</td>\n",
       "      <td>5.907926e+09</td>\n",
       "    </tr>\n",
       "    <tr>\n",
       "      <th>BRXX-262</th>\n",
       "      <td>1.998988e+08</td>\n",
       "      <td>4.671996e+09</td>\n",
       "    </tr>\n",
       "    <tr>\n",
       "      <th>BRXX-3</th>\n",
       "      <td>1.454181e+08</td>\n",
       "      <td>5.880297e+09</td>\n",
       "    </tr>\n",
       "  </tbody>\n",
       "</table>\n",
       "</div>"
      ],
      "text/plain": [
       "             firm_sales  global_sales\n",
       "broker_id                            \n",
       "BRXX-298   5.748833e+08  8.225108e+09\n",
       "BRXX-53    2.165282e+08  8.368342e+09\n",
       "BRXX-154   2.155913e+08  5.907926e+09\n",
       "BRXX-262   1.998988e+08  4.671996e+09\n",
       "BRXX-3     1.454181e+08  5.880297e+09"
      ]
     },
     "execution_count": 64,
     "metadata": {},
     "output_type": "execute_result"
    }
   ],
   "source": [
    "data1.head()"
   ]
  },
  {
   "cell_type": "code",
   "execution_count": null,
   "metadata": {},
   "outputs": [],
   "source": []
  },
  {
   "cell_type": "code",
   "execution_count": 66,
   "metadata": {},
   "outputs": [],
   "source": [
    "data1['loyality_percent'] = (data1[\"firm_sales\"] / data1['global_sales'])*100"
   ]
  },
  {
   "cell_type": "code",
   "execution_count": 67,
   "metadata": {},
   "outputs": [
    {
     "data": {
      "text/html": [
       "<div>\n",
       "<style scoped>\n",
       "    .dataframe tbody tr th:only-of-type {\n",
       "        vertical-align: middle;\n",
       "    }\n",
       "\n",
       "    .dataframe tbody tr th {\n",
       "        vertical-align: top;\n",
       "    }\n",
       "\n",
       "    .dataframe thead th {\n",
       "        text-align: right;\n",
       "    }\n",
       "</style>\n",
       "<table border=\"1\" class=\"dataframe\">\n",
       "  <thead>\n",
       "    <tr style=\"text-align: right;\">\n",
       "      <th></th>\n",
       "      <th>firm_sales</th>\n",
       "      <th>global_sales</th>\n",
       "      <th>loyality_percent</th>\n",
       "    </tr>\n",
       "    <tr>\n",
       "      <th>broker_id</th>\n",
       "      <th></th>\n",
       "      <th></th>\n",
       "      <th></th>\n",
       "    </tr>\n",
       "  </thead>\n",
       "  <tbody>\n",
       "    <tr>\n",
       "      <th>BRXX-298</th>\n",
       "      <td>5.748833e+08</td>\n",
       "      <td>8.225108e+09</td>\n",
       "      <td>6.989371</td>\n",
       "    </tr>\n",
       "    <tr>\n",
       "      <th>BRXX-53</th>\n",
       "      <td>2.165282e+08</td>\n",
       "      <td>8.368342e+09</td>\n",
       "      <td>2.587469</td>\n",
       "    </tr>\n",
       "    <tr>\n",
       "      <th>BRXX-154</th>\n",
       "      <td>2.155913e+08</td>\n",
       "      <td>5.907926e+09</td>\n",
       "      <td>3.649187</td>\n",
       "    </tr>\n",
       "    <tr>\n",
       "      <th>BRXX-262</th>\n",
       "      <td>1.998988e+08</td>\n",
       "      <td>4.671996e+09</td>\n",
       "      <td>4.278660</td>\n",
       "    </tr>\n",
       "    <tr>\n",
       "      <th>BRXX-3</th>\n",
       "      <td>1.454181e+08</td>\n",
       "      <td>5.880297e+09</td>\n",
       "      <td>2.472971</td>\n",
       "    </tr>\n",
       "  </tbody>\n",
       "</table>\n",
       "</div>"
      ],
      "text/plain": [
       "             firm_sales  global_sales  loyality_percent\n",
       "broker_id                                              \n",
       "BRXX-298   5.748833e+08  8.225108e+09          6.989371\n",
       "BRXX-53    2.165282e+08  8.368342e+09          2.587469\n",
       "BRXX-154   2.155913e+08  5.907926e+09          3.649187\n",
       "BRXX-262   1.998988e+08  4.671996e+09          4.278660\n",
       "BRXX-3     1.454181e+08  5.880297e+09          2.472971"
      ]
     },
     "execution_count": 67,
     "metadata": {},
     "output_type": "execute_result"
    }
   ],
   "source": [
    "data1.head()"
   ]
  },
  {
   "cell_type": "code",
   "execution_count": 68,
   "metadata": {},
   "outputs": [
    {
     "data": {
      "text/html": [
       "<div>\n",
       "<style scoped>\n",
       "    .dataframe tbody tr th:only-of-type {\n",
       "        vertical-align: middle;\n",
       "    }\n",
       "\n",
       "    .dataframe tbody tr th {\n",
       "        vertical-align: top;\n",
       "    }\n",
       "\n",
       "    .dataframe thead th {\n",
       "        text-align: right;\n",
       "    }\n",
       "</style>\n",
       "<table border=\"1\" class=\"dataframe\">\n",
       "  <thead>\n",
       "    <tr style=\"text-align: right;\">\n",
       "      <th></th>\n",
       "      <th>firm_sales</th>\n",
       "      <th>global_sales</th>\n",
       "      <th>loyality_percent</th>\n",
       "    </tr>\n",
       "    <tr>\n",
       "      <th>broker_id</th>\n",
       "      <th></th>\n",
       "      <th></th>\n",
       "      <th></th>\n",
       "    </tr>\n",
       "  </thead>\n",
       "  <tbody>\n",
       "    <tr>\n",
       "      <th>BRXX-1005</th>\n",
       "      <td>77.23</td>\n",
       "      <td>77.23</td>\n",
       "      <td>100.000000</td>\n",
       "    </tr>\n",
       "    <tr>\n",
       "      <th>BRXX-1036</th>\n",
       "      <td>245.76</td>\n",
       "      <td>245.76</td>\n",
       "      <td>100.000000</td>\n",
       "    </tr>\n",
       "    <tr>\n",
       "      <th>BRXX-1019</th>\n",
       "      <td>5571.97</td>\n",
       "      <td>5571.97</td>\n",
       "      <td>100.000000</td>\n",
       "    </tr>\n",
       "    <tr>\n",
       "      <th>BRXX-498</th>\n",
       "      <td>13042.03</td>\n",
       "      <td>13042.03</td>\n",
       "      <td>100.000000</td>\n",
       "    </tr>\n",
       "    <tr>\n",
       "      <th>BRXX-710</th>\n",
       "      <td>27438.30</td>\n",
       "      <td>27627.97</td>\n",
       "      <td>99.313486</td>\n",
       "    </tr>\n",
       "    <tr>\n",
       "      <th>...</th>\n",
       "      <td>...</td>\n",
       "      <td>...</td>\n",
       "      <td>...</td>\n",
       "    </tr>\n",
       "    <tr>\n",
       "      <th>BRXX-1082</th>\n",
       "      <td>0.00</td>\n",
       "      <td>0.00</td>\n",
       "      <td>NaN</td>\n",
       "    </tr>\n",
       "    <tr>\n",
       "      <th>BRXX-50</th>\n",
       "      <td>0.00</td>\n",
       "      <td>0.00</td>\n",
       "      <td>NaN</td>\n",
       "    </tr>\n",
       "    <tr>\n",
       "      <th>BRXX-51</th>\n",
       "      <td>0.00</td>\n",
       "      <td>0.00</td>\n",
       "      <td>NaN</td>\n",
       "    </tr>\n",
       "    <tr>\n",
       "      <th>BRXX-1084</th>\n",
       "      <td>0.00</td>\n",
       "      <td>0.00</td>\n",
       "      <td>NaN</td>\n",
       "    </tr>\n",
       "    <tr>\n",
       "      <th>BRXX-493</th>\n",
       "      <td>0.00</td>\n",
       "      <td>0.00</td>\n",
       "      <td>NaN</td>\n",
       "    </tr>\n",
       "  </tbody>\n",
       "</table>\n",
       "<p>1178 rows × 3 columns</p>\n",
       "</div>"
      ],
      "text/plain": [
       "           firm_sales  global_sales  loyality_percent\n",
       "broker_id                                            \n",
       "BRXX-1005       77.23         77.23        100.000000\n",
       "BRXX-1036      245.76        245.76        100.000000\n",
       "BRXX-1019     5571.97       5571.97        100.000000\n",
       "BRXX-498     13042.03      13042.03        100.000000\n",
       "BRXX-710     27438.30      27627.97         99.313486\n",
       "...               ...           ...               ...\n",
       "BRXX-1082        0.00          0.00               NaN\n",
       "BRXX-50          0.00          0.00               NaN\n",
       "BRXX-51          0.00          0.00               NaN\n",
       "BRXX-1084        0.00          0.00               NaN\n",
       "BRXX-493         0.00          0.00               NaN\n",
       "\n",
       "[1178 rows x 3 columns]"
      ]
     },
     "execution_count": 68,
     "metadata": {},
     "output_type": "execute_result"
    }
   ],
   "source": [
    "data1.sort_values('loyality_percent', ascending = False)"
   ]
  },
  {
   "cell_type": "code",
   "execution_count": 71,
   "metadata": {},
   "outputs": [],
   "source": [
    "def loyality_check(loyality_percent):\n",
    "    if loyality_percent == 100:\n",
    "        return \"loyal Broker\"\n",
    "    elif loyality_percent >= 90:\n",
    "        return \"Steadyfast Loyal Broker\"\n",
    "    elif loyality_percent == 0:\n",
    "        return \"Not-commitmented Broker\"\n",
    "    elif loyality_percent < 50:\n",
    "        return \"Less Inclined Broker\"\n",
    "    elif loyality_percent < 90:\n",
    "        return \"Reasonably Devoted Broker\"\n",
    "    else:\n",
    "        return \"Stagnant Broker\""
   ]
  },
  {
   "cell_type": "code",
   "execution_count": 83,
   "metadata": {},
   "outputs": [],
   "source": [
    "data1[\"loyality_category\"] = data1[\"loyality_percent\"].apply(loyality_check)"
   ]
  },
  {
   "cell_type": "code",
   "execution_count": 85,
   "metadata": {},
   "outputs": [
    {
     "data": {
      "text/html": [
       "<div>\n",
       "<style scoped>\n",
       "    .dataframe tbody tr th:only-of-type {\n",
       "        vertical-align: middle;\n",
       "    }\n",
       "\n",
       "    .dataframe tbody tr th {\n",
       "        vertical-align: top;\n",
       "    }\n",
       "\n",
       "    .dataframe thead th {\n",
       "        text-align: right;\n",
       "    }\n",
       "</style>\n",
       "<table border=\"1\" class=\"dataframe\">\n",
       "  <thead>\n",
       "    <tr style=\"text-align: right;\">\n",
       "      <th></th>\n",
       "      <th>firm_sales</th>\n",
       "      <th>global_sales</th>\n",
       "      <th>loyality_percent</th>\n",
       "      <th>loyality_category</th>\n",
       "    </tr>\n",
       "    <tr>\n",
       "      <th>broker_id</th>\n",
       "      <th></th>\n",
       "      <th></th>\n",
       "      <th></th>\n",
       "      <th></th>\n",
       "    </tr>\n",
       "  </thead>\n",
       "  <tbody>\n",
       "    <tr>\n",
       "      <th>BRXX-298</th>\n",
       "      <td>5.748833e+08</td>\n",
       "      <td>8.225108e+09</td>\n",
       "      <td>6.989371</td>\n",
       "      <td>Less Inclined Broker</td>\n",
       "    </tr>\n",
       "    <tr>\n",
       "      <th>BRXX-53</th>\n",
       "      <td>2.165282e+08</td>\n",
       "      <td>8.368342e+09</td>\n",
       "      <td>2.587469</td>\n",
       "      <td>Less Inclined Broker</td>\n",
       "    </tr>\n",
       "    <tr>\n",
       "      <th>BRXX-154</th>\n",
       "      <td>2.155913e+08</td>\n",
       "      <td>5.907926e+09</td>\n",
       "      <td>3.649187</td>\n",
       "      <td>Less Inclined Broker</td>\n",
       "    </tr>\n",
       "    <tr>\n",
       "      <th>BRXX-262</th>\n",
       "      <td>1.998988e+08</td>\n",
       "      <td>4.671996e+09</td>\n",
       "      <td>4.278660</td>\n",
       "      <td>Less Inclined Broker</td>\n",
       "    </tr>\n",
       "    <tr>\n",
       "      <th>BRXX-3</th>\n",
       "      <td>1.454181e+08</td>\n",
       "      <td>5.880297e+09</td>\n",
       "      <td>2.472971</td>\n",
       "      <td>Less Inclined Broker</td>\n",
       "    </tr>\n",
       "    <tr>\n",
       "      <th>BRXX-102</th>\n",
       "      <td>1.392001e+08</td>\n",
       "      <td>3.896722e+09</td>\n",
       "      <td>3.572237</td>\n",
       "      <td>Less Inclined Broker</td>\n",
       "    </tr>\n",
       "    <tr>\n",
       "      <th>BRXX-92</th>\n",
       "      <td>1.271840e+08</td>\n",
       "      <td>3.858099e+09</td>\n",
       "      <td>3.296545</td>\n",
       "      <td>Less Inclined Broker</td>\n",
       "    </tr>\n",
       "    <tr>\n",
       "      <th>BRXX-253</th>\n",
       "      <td>1.095049e+08</td>\n",
       "      <td>2.417693e+09</td>\n",
       "      <td>4.529315</td>\n",
       "      <td>Less Inclined Broker</td>\n",
       "    </tr>\n",
       "    <tr>\n",
       "      <th>BRXX-124</th>\n",
       "      <td>8.806711e+07</td>\n",
       "      <td>1.949679e+09</td>\n",
       "      <td>4.517007</td>\n",
       "      <td>Less Inclined Broker</td>\n",
       "    </tr>\n",
       "    <tr>\n",
       "      <th>BRXX-93</th>\n",
       "      <td>7.784666e+07</td>\n",
       "      <td>1.278011e+09</td>\n",
       "      <td>6.091237</td>\n",
       "      <td>Less Inclined Broker</td>\n",
       "    </tr>\n",
       "    <tr>\n",
       "      <th>BRXX-94</th>\n",
       "      <td>6.184790e+07</td>\n",
       "      <td>1.215718e+09</td>\n",
       "      <td>5.087356</td>\n",
       "      <td>Less Inclined Broker</td>\n",
       "    </tr>\n",
       "    <tr>\n",
       "      <th>BRXX-70</th>\n",
       "      <td>3.258296e+07</td>\n",
       "      <td>6.334080e+08</td>\n",
       "      <td>5.144071</td>\n",
       "      <td>Less Inclined Broker</td>\n",
       "    </tr>\n",
       "    <tr>\n",
       "      <th>BRXX-299</th>\n",
       "      <td>2.816686e+07</td>\n",
       "      <td>5.385067e+08</td>\n",
       "      <td>5.230550</td>\n",
       "      <td>Less Inclined Broker</td>\n",
       "    </tr>\n",
       "    <tr>\n",
       "      <th>BRXX-263</th>\n",
       "      <td>2.719410e+07</td>\n",
       "      <td>2.254376e+08</td>\n",
       "      <td>12.062805</td>\n",
       "      <td>Less Inclined Broker</td>\n",
       "    </tr>\n",
       "    <tr>\n",
       "      <th>BRXX-291</th>\n",
       "      <td>2.179009e+07</td>\n",
       "      <td>6.156687e+08</td>\n",
       "      <td>3.539255</td>\n",
       "      <td>Less Inclined Broker</td>\n",
       "    </tr>\n",
       "    <tr>\n",
       "      <th>BRXX-136</th>\n",
       "      <td>2.035212e+07</td>\n",
       "      <td>2.773974e+08</td>\n",
       "      <td>7.336809</td>\n",
       "      <td>Less Inclined Broker</td>\n",
       "    </tr>\n",
       "    <tr>\n",
       "      <th>BRXX-247</th>\n",
       "      <td>2.018587e+07</td>\n",
       "      <td>6.464249e+08</td>\n",
       "      <td>3.122695</td>\n",
       "      <td>Less Inclined Broker</td>\n",
       "    </tr>\n",
       "    <tr>\n",
       "      <th>BRXX-171</th>\n",
       "      <td>2.017504e+07</td>\n",
       "      <td>2.582492e+08</td>\n",
       "      <td>7.812235</td>\n",
       "      <td>Less Inclined Broker</td>\n",
       "    </tr>\n",
       "    <tr>\n",
       "      <th>BRXX-261</th>\n",
       "      <td>2.007483e+07</td>\n",
       "      <td>4.121742e+08</td>\n",
       "      <td>4.870473</td>\n",
       "      <td>Less Inclined Broker</td>\n",
       "    </tr>\n",
       "    <tr>\n",
       "      <th>BRXX-106</th>\n",
       "      <td>1.956238e+07</td>\n",
       "      <td>2.801175e+08</td>\n",
       "      <td>6.983634</td>\n",
       "      <td>Less Inclined Broker</td>\n",
       "    </tr>\n",
       "    <tr>\n",
       "      <th>BRXX-54</th>\n",
       "      <td>1.913247e+07</td>\n",
       "      <td>2.124664e+08</td>\n",
       "      <td>9.004939</td>\n",
       "      <td>Less Inclined Broker</td>\n",
       "    </tr>\n",
       "    <tr>\n",
       "      <th>BRXX-172</th>\n",
       "      <td>1.912086e+07</td>\n",
       "      <td>8.027237e+08</td>\n",
       "      <td>2.381998</td>\n",
       "      <td>Less Inclined Broker</td>\n",
       "    </tr>\n",
       "    <tr>\n",
       "      <th>BRXX-230</th>\n",
       "      <td>1.631243e+07</td>\n",
       "      <td>3.477943e+08</td>\n",
       "      <td>4.690251</td>\n",
       "      <td>Less Inclined Broker</td>\n",
       "    </tr>\n",
       "    <tr>\n",
       "      <th>BRXX-24</th>\n",
       "      <td>1.580003e+07</td>\n",
       "      <td>1.678746e+07</td>\n",
       "      <td>94.118092</td>\n",
       "      <td>Steadyfast Loyal Broker</td>\n",
       "    </tr>\n",
       "    <tr>\n",
       "      <th>BRXX-301</th>\n",
       "      <td>1.522935e+07</td>\n",
       "      <td>4.553677e+08</td>\n",
       "      <td>3.344408</td>\n",
       "      <td>Less Inclined Broker</td>\n",
       "    </tr>\n",
       "    <tr>\n",
       "      <th>BRXX-249</th>\n",
       "      <td>1.480108e+07</td>\n",
       "      <td>1.458153e+08</td>\n",
       "      <td>10.150569</td>\n",
       "      <td>Less Inclined Broker</td>\n",
       "    </tr>\n",
       "    <tr>\n",
       "      <th>BRXX-76</th>\n",
       "      <td>1.324993e+07</td>\n",
       "      <td>5.084810e+08</td>\n",
       "      <td>2.605787</td>\n",
       "      <td>Less Inclined Broker</td>\n",
       "    </tr>\n",
       "    <tr>\n",
       "      <th>BRXX-84</th>\n",
       "      <td>1.233132e+07</td>\n",
       "      <td>2.027203e+08</td>\n",
       "      <td>6.082920</td>\n",
       "      <td>Less Inclined Broker</td>\n",
       "    </tr>\n",
       "    <tr>\n",
       "      <th>BRXX-55</th>\n",
       "      <td>1.216951e+07</td>\n",
       "      <td>1.403452e+09</td>\n",
       "      <td>0.867112</td>\n",
       "      <td>Less Inclined Broker</td>\n",
       "    </tr>\n",
       "    <tr>\n",
       "      <th>BRXX-274</th>\n",
       "      <td>1.191922e+07</td>\n",
       "      <td>7.789250e+07</td>\n",
       "      <td>15.302144</td>\n",
       "      <td>Less Inclined Broker</td>\n",
       "    </tr>\n",
       "    <tr>\n",
       "      <th>BRXX-273</th>\n",
       "      <td>1.189186e+07</td>\n",
       "      <td>2.828547e+08</td>\n",
       "      <td>4.204228</td>\n",
       "      <td>Less Inclined Broker</td>\n",
       "    </tr>\n",
       "    <tr>\n",
       "      <th>BRXX-72</th>\n",
       "      <td>1.126945e+07</td>\n",
       "      <td>1.440930e+08</td>\n",
       "      <td>7.820951</td>\n",
       "      <td>Less Inclined Broker</td>\n",
       "    </tr>\n",
       "    <tr>\n",
       "      <th>BRXX-1</th>\n",
       "      <td>1.115767e+07</td>\n",
       "      <td>1.066317e+08</td>\n",
       "      <td>10.463750</td>\n",
       "      <td>Less Inclined Broker</td>\n",
       "    </tr>\n",
       "    <tr>\n",
       "      <th>BRXX-281</th>\n",
       "      <td>1.114828e+07</td>\n",
       "      <td>1.076749e+08</td>\n",
       "      <td>10.353653</td>\n",
       "      <td>Less Inclined Broker</td>\n",
       "    </tr>\n",
       "    <tr>\n",
       "      <th>BRXX-248</th>\n",
       "      <td>1.047975e+07</td>\n",
       "      <td>1.705550e+08</td>\n",
       "      <td>6.144497</td>\n",
       "      <td>Less Inclined Broker</td>\n",
       "    </tr>\n",
       "    <tr>\n",
       "      <th>BRXX-179</th>\n",
       "      <td>1.015703e+07</td>\n",
       "      <td>4.791777e+08</td>\n",
       "      <td>2.119679</td>\n",
       "      <td>Less Inclined Broker</td>\n",
       "    </tr>\n",
       "    <tr>\n",
       "      <th>BRXX-187</th>\n",
       "      <td>9.865495e+06</td>\n",
       "      <td>7.088789e+07</td>\n",
       "      <td>13.917039</td>\n",
       "      <td>Less Inclined Broker</td>\n",
       "    </tr>\n",
       "    <tr>\n",
       "      <th>BRXX-112</th>\n",
       "      <td>8.519095e+06</td>\n",
       "      <td>5.400075e+07</td>\n",
       "      <td>15.775883</td>\n",
       "      <td>Less Inclined Broker</td>\n",
       "    </tr>\n",
       "    <tr>\n",
       "      <th>BRXX-232</th>\n",
       "      <td>8.350833e+06</td>\n",
       "      <td>1.425225e+08</td>\n",
       "      <td>5.859310</td>\n",
       "      <td>Less Inclined Broker</td>\n",
       "    </tr>\n",
       "    <tr>\n",
       "      <th>BRXX-255</th>\n",
       "      <td>7.632247e+06</td>\n",
       "      <td>1.458996e+08</td>\n",
       "      <td>5.231165</td>\n",
       "      <td>Less Inclined Broker</td>\n",
       "    </tr>\n",
       "    <tr>\n",
       "      <th>BRXX-210</th>\n",
       "      <td>7.370504e+06</td>\n",
       "      <td>4.505908e+08</td>\n",
       "      <td>1.635742</td>\n",
       "      <td>Less Inclined Broker</td>\n",
       "    </tr>\n",
       "    <tr>\n",
       "      <th>BRXX-311</th>\n",
       "      <td>7.210558e+06</td>\n",
       "      <td>2.475487e+08</td>\n",
       "      <td>2.912784</td>\n",
       "      <td>Less Inclined Broker</td>\n",
       "    </tr>\n",
       "    <tr>\n",
       "      <th>BRXX-279</th>\n",
       "      <td>6.178809e+06</td>\n",
       "      <td>1.288569e+08</td>\n",
       "      <td>4.795095</td>\n",
       "      <td>Less Inclined Broker</td>\n",
       "    </tr>\n",
       "    <tr>\n",
       "      <th>BRXX-313</th>\n",
       "      <td>6.098609e+06</td>\n",
       "      <td>2.071261e+08</td>\n",
       "      <td>2.944394</td>\n",
       "      <td>Less Inclined Broker</td>\n",
       "    </tr>\n",
       "    <tr>\n",
       "      <th>BRXX-275</th>\n",
       "      <td>5.736187e+06</td>\n",
       "      <td>1.216002e+08</td>\n",
       "      <td>4.717252</td>\n",
       "      <td>Less Inclined Broker</td>\n",
       "    </tr>\n",
       "    <tr>\n",
       "      <th>BRXX-174</th>\n",
       "      <td>5.731301e+06</td>\n",
       "      <td>1.617231e+08</td>\n",
       "      <td>3.543898</td>\n",
       "      <td>Less Inclined Broker</td>\n",
       "    </tr>\n",
       "    <tr>\n",
       "      <th>BRXX-225</th>\n",
       "      <td>5.459964e+06</td>\n",
       "      <td>7.449367e+07</td>\n",
       "      <td>7.329434</td>\n",
       "      <td>Less Inclined Broker</td>\n",
       "    </tr>\n",
       "    <tr>\n",
       "      <th>BRXX-215</th>\n",
       "      <td>5.425799e+06</td>\n",
       "      <td>8.368913e+07</td>\n",
       "      <td>6.483278</td>\n",
       "      <td>Less Inclined Broker</td>\n",
       "    </tr>\n",
       "    <tr>\n",
       "      <th>BRXX-186</th>\n",
       "      <td>4.984665e+06</td>\n",
       "      <td>7.629476e+07</td>\n",
       "      <td>6.533431</td>\n",
       "      <td>Less Inclined Broker</td>\n",
       "    </tr>\n",
       "    <tr>\n",
       "      <th>BRXX-107</th>\n",
       "      <td>4.945068e+06</td>\n",
       "      <td>8.964064e+07</td>\n",
       "      <td>5.516547</td>\n",
       "      <td>Less Inclined Broker</td>\n",
       "    </tr>\n",
       "  </tbody>\n",
       "</table>\n",
       "</div>"
      ],
      "text/plain": [
       "             firm_sales  global_sales  loyality_percent  \\\n",
       "broker_id                                                 \n",
       "BRXX-298   5.748833e+08  8.225108e+09          6.989371   \n",
       "BRXX-53    2.165282e+08  8.368342e+09          2.587469   \n",
       "BRXX-154   2.155913e+08  5.907926e+09          3.649187   \n",
       "BRXX-262   1.998988e+08  4.671996e+09          4.278660   \n",
       "BRXX-3     1.454181e+08  5.880297e+09          2.472971   \n",
       "BRXX-102   1.392001e+08  3.896722e+09          3.572237   \n",
       "BRXX-92    1.271840e+08  3.858099e+09          3.296545   \n",
       "BRXX-253   1.095049e+08  2.417693e+09          4.529315   \n",
       "BRXX-124   8.806711e+07  1.949679e+09          4.517007   \n",
       "BRXX-93    7.784666e+07  1.278011e+09          6.091237   \n",
       "BRXX-94    6.184790e+07  1.215718e+09          5.087356   \n",
       "BRXX-70    3.258296e+07  6.334080e+08          5.144071   \n",
       "BRXX-299   2.816686e+07  5.385067e+08          5.230550   \n",
       "BRXX-263   2.719410e+07  2.254376e+08         12.062805   \n",
       "BRXX-291   2.179009e+07  6.156687e+08          3.539255   \n",
       "BRXX-136   2.035212e+07  2.773974e+08          7.336809   \n",
       "BRXX-247   2.018587e+07  6.464249e+08          3.122695   \n",
       "BRXX-171   2.017504e+07  2.582492e+08          7.812235   \n",
       "BRXX-261   2.007483e+07  4.121742e+08          4.870473   \n",
       "BRXX-106   1.956238e+07  2.801175e+08          6.983634   \n",
       "BRXX-54    1.913247e+07  2.124664e+08          9.004939   \n",
       "BRXX-172   1.912086e+07  8.027237e+08          2.381998   \n",
       "BRXX-230   1.631243e+07  3.477943e+08          4.690251   \n",
       "BRXX-24    1.580003e+07  1.678746e+07         94.118092   \n",
       "BRXX-301   1.522935e+07  4.553677e+08          3.344408   \n",
       "BRXX-249   1.480108e+07  1.458153e+08         10.150569   \n",
       "BRXX-76    1.324993e+07  5.084810e+08          2.605787   \n",
       "BRXX-84    1.233132e+07  2.027203e+08          6.082920   \n",
       "BRXX-55    1.216951e+07  1.403452e+09          0.867112   \n",
       "BRXX-274   1.191922e+07  7.789250e+07         15.302144   \n",
       "BRXX-273   1.189186e+07  2.828547e+08          4.204228   \n",
       "BRXX-72    1.126945e+07  1.440930e+08          7.820951   \n",
       "BRXX-1     1.115767e+07  1.066317e+08         10.463750   \n",
       "BRXX-281   1.114828e+07  1.076749e+08         10.353653   \n",
       "BRXX-248   1.047975e+07  1.705550e+08          6.144497   \n",
       "BRXX-179   1.015703e+07  4.791777e+08          2.119679   \n",
       "BRXX-187   9.865495e+06  7.088789e+07         13.917039   \n",
       "BRXX-112   8.519095e+06  5.400075e+07         15.775883   \n",
       "BRXX-232   8.350833e+06  1.425225e+08          5.859310   \n",
       "BRXX-255   7.632247e+06  1.458996e+08          5.231165   \n",
       "BRXX-210   7.370504e+06  4.505908e+08          1.635742   \n",
       "BRXX-311   7.210558e+06  2.475487e+08          2.912784   \n",
       "BRXX-279   6.178809e+06  1.288569e+08          4.795095   \n",
       "BRXX-313   6.098609e+06  2.071261e+08          2.944394   \n",
       "BRXX-275   5.736187e+06  1.216002e+08          4.717252   \n",
       "BRXX-174   5.731301e+06  1.617231e+08          3.543898   \n",
       "BRXX-225   5.459964e+06  7.449367e+07          7.329434   \n",
       "BRXX-215   5.425799e+06  8.368913e+07          6.483278   \n",
       "BRXX-186   4.984665e+06  7.629476e+07          6.533431   \n",
       "BRXX-107   4.945068e+06  8.964064e+07          5.516547   \n",
       "\n",
       "                 loyality_category  \n",
       "broker_id                           \n",
       "BRXX-298      Less Inclined Broker  \n",
       "BRXX-53       Less Inclined Broker  \n",
       "BRXX-154      Less Inclined Broker  \n",
       "BRXX-262      Less Inclined Broker  \n",
       "BRXX-3        Less Inclined Broker  \n",
       "BRXX-102      Less Inclined Broker  \n",
       "BRXX-92       Less Inclined Broker  \n",
       "BRXX-253      Less Inclined Broker  \n",
       "BRXX-124      Less Inclined Broker  \n",
       "BRXX-93       Less Inclined Broker  \n",
       "BRXX-94       Less Inclined Broker  \n",
       "BRXX-70       Less Inclined Broker  \n",
       "BRXX-299      Less Inclined Broker  \n",
       "BRXX-263      Less Inclined Broker  \n",
       "BRXX-291      Less Inclined Broker  \n",
       "BRXX-136      Less Inclined Broker  \n",
       "BRXX-247      Less Inclined Broker  \n",
       "BRXX-171      Less Inclined Broker  \n",
       "BRXX-261      Less Inclined Broker  \n",
       "BRXX-106      Less Inclined Broker  \n",
       "BRXX-54       Less Inclined Broker  \n",
       "BRXX-172      Less Inclined Broker  \n",
       "BRXX-230      Less Inclined Broker  \n",
       "BRXX-24    Steadyfast Loyal Broker  \n",
       "BRXX-301      Less Inclined Broker  \n",
       "BRXX-249      Less Inclined Broker  \n",
       "BRXX-76       Less Inclined Broker  \n",
       "BRXX-84       Less Inclined Broker  \n",
       "BRXX-55       Less Inclined Broker  \n",
       "BRXX-274      Less Inclined Broker  \n",
       "BRXX-273      Less Inclined Broker  \n",
       "BRXX-72       Less Inclined Broker  \n",
       "BRXX-1        Less Inclined Broker  \n",
       "BRXX-281      Less Inclined Broker  \n",
       "BRXX-248      Less Inclined Broker  \n",
       "BRXX-179      Less Inclined Broker  \n",
       "BRXX-187      Less Inclined Broker  \n",
       "BRXX-112      Less Inclined Broker  \n",
       "BRXX-232      Less Inclined Broker  \n",
       "BRXX-255      Less Inclined Broker  \n",
       "BRXX-210      Less Inclined Broker  \n",
       "BRXX-311      Less Inclined Broker  \n",
       "BRXX-279      Less Inclined Broker  \n",
       "BRXX-313      Less Inclined Broker  \n",
       "BRXX-275      Less Inclined Broker  \n",
       "BRXX-174      Less Inclined Broker  \n",
       "BRXX-225      Less Inclined Broker  \n",
       "BRXX-215      Less Inclined Broker  \n",
       "BRXX-186      Less Inclined Broker  \n",
       "BRXX-107      Less Inclined Broker  "
      ]
     },
     "execution_count": 85,
     "metadata": {},
     "output_type": "execute_result"
    }
   ],
   "source": [
    "data1.head(50)"
   ]
  },
  {
   "cell_type": "code",
   "execution_count": 94,
   "metadata": {},
   "outputs": [],
   "source": [
    "data1['broker_id'] = data1.index"
   ]
  },
  {
   "cell_type": "code",
   "execution_count": 95,
   "metadata": {},
   "outputs": [
    {
     "data": {
      "text/plain": [
       "Index(['firm_sales', 'global_sales', 'loyality_percent', 'loyality_category',\n",
       "       'brokers', 'broker_id'],\n",
       "      dtype='object')"
      ]
     },
     "execution_count": 95,
     "metadata": {},
     "output_type": "execute_result"
    }
   ],
   "source": [
    "data1.columns"
   ]
  },
  {
   "cell_type": "code",
   "execution_count": 99,
   "metadata": {},
   "outputs": [],
   "source": [
    "data1 = data1.drop(\"brokers\", axis = 1)"
   ]
  },
  {
   "cell_type": "code",
   "execution_count": 102,
   "metadata": {},
   "outputs": [
    {
     "data": {
      "text/html": [
       "<div>\n",
       "<style scoped>\n",
       "    .dataframe tbody tr th:only-of-type {\n",
       "        vertical-align: middle;\n",
       "    }\n",
       "\n",
       "    .dataframe tbody tr th {\n",
       "        vertical-align: top;\n",
       "    }\n",
       "\n",
       "    .dataframe thead th {\n",
       "        text-align: right;\n",
       "    }\n",
       "</style>\n",
       "<table border=\"1\" class=\"dataframe\">\n",
       "  <thead>\n",
       "    <tr style=\"text-align: right;\">\n",
       "      <th></th>\n",
       "      <th>broker_id</th>\n",
       "    </tr>\n",
       "    <tr>\n",
       "      <th>loyality_category</th>\n",
       "      <th></th>\n",
       "    </tr>\n",
       "  </thead>\n",
       "  <tbody>\n",
       "    <tr>\n",
       "      <th>Not-commitmented Broker</th>\n",
       "      <td>686</td>\n",
       "    </tr>\n",
       "    <tr>\n",
       "      <th>Less Inclined Broker</th>\n",
       "      <td>310</td>\n",
       "    </tr>\n",
       "    <tr>\n",
       "      <th>Stagnant Broker</th>\n",
       "      <td>166</td>\n",
       "    </tr>\n",
       "    <tr>\n",
       "      <th>Reasonably Devoted Broker</th>\n",
       "      <td>7</td>\n",
       "    </tr>\n",
       "    <tr>\n",
       "      <th>Steadyfast Loyal Broker</th>\n",
       "      <td>5</td>\n",
       "    </tr>\n",
       "    <tr>\n",
       "      <th>loyal Broker</th>\n",
       "      <td>4</td>\n",
       "    </tr>\n",
       "  </tbody>\n",
       "</table>\n",
       "</div>"
      ],
      "text/plain": [
       "                           broker_id\n",
       "loyality_category                   \n",
       "Not-commitmented Broker          686\n",
       "Less Inclined Broker             310\n",
       "Stagnant Broker                  166\n",
       "Reasonably Devoted Broker          7\n",
       "Steadyfast Loyal Broker            5\n",
       "loyal Broker                       4"
      ]
     },
     "execution_count": 102,
     "metadata": {},
     "output_type": "execute_result"
    }
   ],
   "source": [
    "data1.groupby(\"loyality_category\")[[\"broker_id\"]].count().sort_values(\"broker_id\",ascending = False)"
   ]
  },
  {
   "cell_type": "code",
   "execution_count": 103,
   "metadata": {},
   "outputs": [
    {
     "data": {
      "text/plain": [
       "['firm_sales',\n",
       " 'global_sales',\n",
       " 'loyality_percent',\n",
       " 'loyality_category',\n",
       " 'broker_id']"
      ]
     },
     "execution_count": 103,
     "metadata": {},
     "output_type": "execute_result"
    }
   ],
   "source": [
    "list(data1.columns)"
   ]
  },
  {
   "cell_type": "code",
   "execution_count": 105,
   "metadata": {},
   "outputs": [
    {
     "data": {
      "text/plain": [
       "['broker_id',\n",
       " 'city',\n",
       " 'broker_type',\n",
       " 'fund_category',\n",
       " 'email_opened',\n",
       " 'webex_meet',\n",
       " 'sales_call',\n",
       " 'firm_sales',\n",
       " 'global_sales',\n",
       " 'state']"
      ]
     },
     "execution_count": 105,
     "metadata": {},
     "output_type": "execute_result"
    }
   ],
   "source": [
    "list(data.columns)"
   ]
  },
  {
   "cell_type": "code",
   "execution_count": 106,
   "metadata": {},
   "outputs": [
    {
     "data": {
      "text/html": [
       "<div>\n",
       "<style scoped>\n",
       "    .dataframe tbody tr th:only-of-type {\n",
       "        vertical-align: middle;\n",
       "    }\n",
       "\n",
       "    .dataframe tbody tr th {\n",
       "        vertical-align: top;\n",
       "    }\n",
       "\n",
       "    .dataframe thead th {\n",
       "        text-align: right;\n",
       "    }\n",
       "</style>\n",
       "<table border=\"1\" class=\"dataframe\">\n",
       "  <thead>\n",
       "    <tr style=\"text-align: right;\">\n",
       "      <th></th>\n",
       "      <th>firm_sales</th>\n",
       "      <th>global_sales</th>\n",
       "      <th>loyality_percent</th>\n",
       "      <th>loyality_category</th>\n",
       "      <th>broker_id</th>\n",
       "    </tr>\n",
       "    <tr>\n",
       "      <th>broker_id</th>\n",
       "      <th></th>\n",
       "      <th></th>\n",
       "      <th></th>\n",
       "      <th></th>\n",
       "      <th></th>\n",
       "    </tr>\n",
       "  </thead>\n",
       "  <tbody>\n",
       "    <tr>\n",
       "      <th>BRXX-298</th>\n",
       "      <td>5.748833e+08</td>\n",
       "      <td>8.225108e+09</td>\n",
       "      <td>6.989371</td>\n",
       "      <td>Less Inclined Broker</td>\n",
       "      <td>BRXX-298</td>\n",
       "    </tr>\n",
       "    <tr>\n",
       "      <th>BRXX-53</th>\n",
       "      <td>2.165282e+08</td>\n",
       "      <td>8.368342e+09</td>\n",
       "      <td>2.587469</td>\n",
       "      <td>Less Inclined Broker</td>\n",
       "      <td>BRXX-53</td>\n",
       "    </tr>\n",
       "    <tr>\n",
       "      <th>BRXX-154</th>\n",
       "      <td>2.155913e+08</td>\n",
       "      <td>5.907926e+09</td>\n",
       "      <td>3.649187</td>\n",
       "      <td>Less Inclined Broker</td>\n",
       "      <td>BRXX-154</td>\n",
       "    </tr>\n",
       "    <tr>\n",
       "      <th>BRXX-262</th>\n",
       "      <td>1.998988e+08</td>\n",
       "      <td>4.671996e+09</td>\n",
       "      <td>4.278660</td>\n",
       "      <td>Less Inclined Broker</td>\n",
       "      <td>BRXX-262</td>\n",
       "    </tr>\n",
       "    <tr>\n",
       "      <th>BRXX-3</th>\n",
       "      <td>1.454181e+08</td>\n",
       "      <td>5.880297e+09</td>\n",
       "      <td>2.472971</td>\n",
       "      <td>Less Inclined Broker</td>\n",
       "      <td>BRXX-3</td>\n",
       "    </tr>\n",
       "  </tbody>\n",
       "</table>\n",
       "</div>"
      ],
      "text/plain": [
       "             firm_sales  global_sales  loyality_percent     loyality_category  \\\n",
       "broker_id                                                                       \n",
       "BRXX-298   5.748833e+08  8.225108e+09          6.989371  Less Inclined Broker   \n",
       "BRXX-53    2.165282e+08  8.368342e+09          2.587469  Less Inclined Broker   \n",
       "BRXX-154   2.155913e+08  5.907926e+09          3.649187  Less Inclined Broker   \n",
       "BRXX-262   1.998988e+08  4.671996e+09          4.278660  Less Inclined Broker   \n",
       "BRXX-3     1.454181e+08  5.880297e+09          2.472971  Less Inclined Broker   \n",
       "\n",
       "          broker_id  \n",
       "broker_id            \n",
       "BRXX-298   BRXX-298  \n",
       "BRXX-53     BRXX-53  \n",
       "BRXX-154   BRXX-154  \n",
       "BRXX-262   BRXX-262  \n",
       "BRXX-3       BRXX-3  "
      ]
     },
     "execution_count": 106,
     "metadata": {},
     "output_type": "execute_result"
    }
   ],
   "source": [
    "data1.head()"
   ]
  },
  {
   "cell_type": "code",
   "execution_count": null,
   "metadata": {},
   "outputs": [],
   "source": []
  },
  {
   "cell_type": "code",
   "execution_count": null,
   "metadata": {},
   "outputs": [],
   "source": []
  }
 ],
 "metadata": {
  "kernelspec": {
   "display_name": "Python 3",
   "language": "python",
   "name": "python3"
  },
  "language_info": {
   "codemirror_mode": {
    "name": "ipython",
    "version": 3
   },
   "file_extension": ".py",
   "mimetype": "text/x-python",
   "name": "python",
   "nbconvert_exporter": "python",
   "pygments_lexer": "ipython3",
   "version": "3.8.5"
  }
 },
 "nbformat": 4,
 "nbformat_minor": 4
}
